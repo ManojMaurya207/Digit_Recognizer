{
 "cells": [
  {
   "cell_type": "markdown",
   "metadata": {},
   "source": [
    "# MNIST Dataset for Characher recognision form Strach"
   ]
  },
  {
   "cell_type": "code",
   "execution_count": 1,
   "metadata": {},
   "outputs": [],
   "source": [
    "import numpy as np\n",
    "import pandas as pd\n",
    "import matplotlib.pyplot as plt"
   ]
  },
  {
   "cell_type": "code",
   "execution_count": 2,
   "metadata": {},
   "outputs": [],
   "source": [
    "data = pd.read_csv('train.csv')\n"
   ]
  },
  {
   "cell_type": "code",
   "execution_count": 3,
   "metadata": {},
   "outputs": [],
   "source": [
    "data = np.array(data)\n",
    "m, n = data.shape\n",
    "np.random.shuffle(data)"
   ]
  },
  {
   "cell_type": "code",
   "execution_count": 4,
   "metadata": {},
   "outputs": [],
   "source": [
    "\n",
    "data_dev = data[0:1000].T\n",
    "Y_dev = data_dev[0]\n",
    "X_dev = data_dev[1:n]\n",
    "X_dev = X_dev / 255.\n",
    "\n",
    "data_train = data[1000:m].T\n",
    "Y_train = data_train[0]\n",
    "X_train = data_train[1:n]\n",
    "X_train = X_train / 255.\n",
    "_,m_train = X_train.shape\n",
    "\n"
   ]
  },
  {
   "cell_type": "markdown",
   "metadata": {},
   "source": [
    "Initailze Parameter "
   ]
  },
  {
   "cell_type": "code",
   "execution_count": 13,
   "metadata": {},
   "outputs": [
    {
     "name": "stdout",
     "output_type": "stream",
     "text": [
      "[[ 0.46914852  0.15330234  0.04272471 ...  0.29565609  0.13772959\n",
      "   0.08289617]\n",
      " [-0.3880924  -0.06005268  0.04818964 ...  0.08494048 -0.48884403\n",
      "   0.01798956]\n",
      " [-0.33813507 -0.38973215 -0.32754881 ...  0.17611604  0.00635563\n",
      "   0.04101564]\n",
      " ...\n",
      " [-0.00954002 -0.05177735  0.13747931 ... -0.0634341   0.25898675\n",
      "  -0.16933021]\n",
      " [ 0.17723677  0.46601419  0.38319214 ... -0.06422804  0.16637948\n",
      "   0.41241925]\n",
      " [-0.33097053 -0.35068314  0.06643637 ... -0.10903721 -0.02120797\n",
      "   0.00492938]]\n"
     ]
    },
    {
     "data": {
      "text/plain": [
       "(array([[ 0.46914852,  0.15330234,  0.04272471, ...,  0.29565609,\n",
       "          0.13772959,  0.08289617],\n",
       "        [-0.3880924 , -0.06005268,  0.04818964, ...,  0.08494048,\n",
       "         -0.48884403,  0.01798956],\n",
       "        [-0.33813507, -0.38973215, -0.32754881, ...,  0.17611604,\n",
       "          0.00635563,  0.04101564],\n",
       "        ...,\n",
       "        [-0.00954002, -0.05177735,  0.13747931, ..., -0.0634341 ,\n",
       "          0.25898675, -0.16933021],\n",
       "        [ 0.17723677,  0.46601419,  0.38319214, ..., -0.06422804,\n",
       "          0.16637948,  0.41241925],\n",
       "        [-0.33097053, -0.35068314,  0.06643637, ..., -0.10903721,\n",
       "         -0.02120797,  0.00492938]]),\n",
       " array([[-0.04312298],\n",
       "        [ 0.06089756],\n",
       "        [ 0.12038944],\n",
       "        [ 0.22331729],\n",
       "        [ 0.15410319],\n",
       "        [ 0.13240535],\n",
       "        [ 0.13953218],\n",
       "        [ 0.48514181],\n",
       "        [ 0.49576774],\n",
       "        [-0.41536857]]),\n",
       " array([[ 0.36917731,  0.44916599,  0.44186319,  0.20658147, -0.35868426,\n",
       "         -0.13706278, -0.33663157,  0.21930135,  0.3218011 ,  0.08891695],\n",
       "        [ 0.03525706, -0.37984282, -0.17079287, -0.40032281,  0.47132864,\n",
       "         -0.15229317,  0.40155982,  0.21621938,  0.16852813, -0.01089488],\n",
       "        [ 0.42020102,  0.0281388 ,  0.04371209, -0.04918036,  0.26709932,\n",
       "          0.43242037, -0.35618035, -0.02553184, -0.38409387,  0.10392494],\n",
       "        [ 0.00850303,  0.39438588,  0.20654117, -0.43197924, -0.03657909,\n",
       "         -0.17323422, -0.47063624, -0.16062627,  0.22034726, -0.46079233],\n",
       "        [ 0.33455207, -0.11724768,  0.18101162,  0.25589081,  0.25180445,\n",
       "          0.22953395, -0.19064767,  0.06442171, -0.42532056,  0.06165292],\n",
       "        [ 0.20648068, -0.3519785 , -0.49286592, -0.49237157, -0.15254859,\n",
       "          0.0170268 , -0.18067746,  0.43741527, -0.48534948,  0.0026495 ],\n",
       "        [-0.44649598,  0.47005916, -0.28134883,  0.41393948, -0.02813434,\n",
       "          0.05081257, -0.01429531, -0.44609648, -0.1837612 , -0.23776245],\n",
       "        [-0.18536989,  0.05085011, -0.20837742,  0.16808463, -0.20163173,\n",
       "         -0.00334114, -0.11909587, -0.48919991, -0.00366352,  0.41926772],\n",
       "        [ 0.00058493,  0.11519459, -0.24525098,  0.43940071,  0.38369902,\n",
       "          0.33918758,  0.12603281, -0.14744211, -0.19436468, -0.2558494 ],\n",
       "        [ 0.0371473 , -0.24148247,  0.2804494 ,  0.48982777,  0.30219636,\n",
       "         -0.31100278, -0.31192343,  0.0805361 ,  0.4761336 ,  0.39635278]]),\n",
       " array([[ 0.19651527],\n",
       "        [ 0.45781987],\n",
       "        [-0.07612141],\n",
       "        [-0.15971476],\n",
       "        [ 0.33674751],\n",
       "        [ 0.3825654 ],\n",
       "        [-0.3387911 ],\n",
       "        [-0.45046261],\n",
       "        [ 0.26431394],\n",
       "        [-0.37782211]]))"
      ]
     },
     "execution_count": 13,
     "metadata": {},
     "output_type": "execute_result"
    }
   ],
   "source": [
    "def init_params():\n",
    "    W1 = np.random.rand(10, 784) - 0.5\n",
    "    b1 = np.random.rand(10, 1) - 0.5\n",
    "    W2 = np.random.rand(10, 10) - 0.5\n",
    "    b2 = np.random.rand(10, 1) - 0.5\n",
    "    return W1, b1, W2, b2\n"
   ]
  },
  {
   "cell_type": "markdown",
   "metadata": {},
   "source": [
    "Helper function "
   ]
  },
  {
   "cell_type": "code",
   "execution_count": 6,
   "metadata": {},
   "outputs": [],
   "source": [
    "def ReLU(Z):\n",
    "    return np.maximum(Z, 0)\n",
    "\n",
    "def softmax(Z):\n",
    "    A = np.exp(Z) / sum(np.exp(Z))\n",
    "    return A\n",
    "\n",
    "def ReLU_deriv(Z):\n",
    "    return Z > 0\n",
    "\n",
    "def one_hot(Y):\n",
    "    one_hot_Y = np.zeros((Y.size, Y.max() + 1))\n",
    "    one_hot_Y[np.arange(Y.size), Y] = 1\n",
    "    return one_hot_Y.T"
   ]
  },
  {
   "cell_type": "markdown",
   "metadata": {},
   "source": [
    "Forward Propogration"
   ]
  },
  {
   "cell_type": "code",
   "execution_count": 7,
   "metadata": {},
   "outputs": [],
   "source": [
    "def forward_prop(W1, b1, W2, b2, X):\n",
    "    Z1 = W1.dot(X) + b1\n",
    "    A1 = ReLU(Z1)\n",
    "    Z2 = W2.dot(A1) + b2\n",
    "    A2 = softmax(Z2)\n",
    "    return Z1, A1, Z2, A2"
   ]
  },
  {
   "cell_type": "markdown",
   "metadata": {},
   "source": [
    "Backward Propagation"
   ]
  },
  {
   "cell_type": "code",
   "execution_count": 8,
   "metadata": {},
   "outputs": [],
   "source": [
    "def backward_prop(Z1, A1, Z2, A2, W1, W2, X, Y):\n",
    "    one_hot_Y = one_hot(Y)\n",
    "    dZ2 = A2 - one_hot_Y\n",
    "    dW2 = 1 / m * dZ2.dot(A1.T)\n",
    "    db2 = 1 / m * np.sum(dZ2)\n",
    "    dZ1 = W2.T.dot(dZ2) * ReLU_deriv(Z1)\n",
    "    dW1 = 1 / m * dZ1.dot(X.T)\n",
    "    db1 = 1 / m * np.sum(dZ1)\n",
    "    return dW1, db1, dW2, db2\n",
    "\n"
   ]
  },
  {
   "cell_type": "markdown",
   "metadata": {},
   "source": [
    "Updating Parameter (While traning & backbord propagation)"
   ]
  },
  {
   "cell_type": "code",
   "execution_count": 9,
   "metadata": {},
   "outputs": [],
   "source": [
    "def update_params(W1, b1, W2, b2, dW1, db1, dW2, db2, alpha):\n",
    "    W1 = W1 - alpha * dW1\n",
    "    b1 = b1 - alpha * db1    \n",
    "    W2 = W2 - alpha * dW2  \n",
    "    b2 = b2 - alpha * db2    \n",
    "    return W1, b1, W2, b2"
   ]
  },
  {
   "cell_type": "markdown",
   "metadata": {},
   "source": [
    "Performing the Gradient decent on the data set "
   ]
  },
  {
   "cell_type": "code",
   "execution_count": 10,
   "metadata": {},
   "outputs": [],
   "source": [
    "def get_predictions(A2):\n",
    "    return np.argmax(A2, 0)\n",
    "\n",
    "def get_accuracy(predictions, Y):\n",
    "    print(predictions, Y)\n",
    "    return np.sum(predictions == Y) / Y.size\n",
    "\n",
    "def gradient_descent(X, Y, alpha, iterations):\n",
    "    W1, b1, W2, b2 = init_params()\n",
    "    for i in range(iterations):\n",
    "        Z1, A1, Z2, A2 = forward_prop(W1, b1, W2, b2, X)\n",
    "        dW1, db1, dW2, db2 = backward_prop(Z1, A1, Z2, A2, W1, W2, X, Y)\n",
    "        W1, b1, W2, b2 = update_params(W1, b1, W2, b2, dW1, db1, dW2, db2, alpha)\n",
    "        if i % 10 == 0:\n",
    "            print(\"Iteration: \", i)\n",
    "            predictions = get_predictions(A2)\n",
    "            print(get_accuracy(predictions, Y))\n",
    "    return W1, b1, W2, b2"
   ]
  },
  {
   "cell_type": "code",
   "execution_count": 11,
   "metadata": {},
   "outputs": [
    {
     "name": "stdout",
     "output_type": "stream",
     "text": [
      "Iteration:  0\n",
      "[9 5 4 ... 9 9 7] [2 5 7 ... 1 3 7]\n",
      "0.11404878048780488\n",
      "Iteration:  10\n",
      "[0 5 4 ... 9 8 7] [2 5 7 ... 1 3 7]\n",
      "0.1572439024390244\n",
      "Iteration:  20\n",
      "[1 5 4 ... 1 3 7] [2 5 7 ... 1 3 7]\n",
      "0.265609756097561\n",
      "Iteration:  30\n",
      "[1 5 7 ... 1 3 7] [2 5 7 ... 1 3 7]\n",
      "0.35\n",
      "Iteration:  40\n",
      "[1 5 7 ... 1 3 7] [2 5 7 ... 1 3 7]\n",
      "0.40656097560975607\n",
      "Iteration:  50\n",
      "[1 5 7 ... 1 3 7] [2 5 7 ... 1 3 7]\n",
      "0.44658536585365854\n",
      "Iteration:  60\n",
      "[1 5 7 ... 1 3 7] [2 5 7 ... 1 3 7]\n",
      "0.4921219512195122\n",
      "Iteration:  70\n",
      "[1 5 7 ... 1 3 7] [2 5 7 ... 1 3 7]\n",
      "0.5366585365853659\n",
      "Iteration:  80\n",
      "[1 5 7 ... 1 3 7] [2 5 7 ... 1 3 7]\n",
      "0.5709024390243902\n",
      "Iteration:  90\n",
      "[1 5 7 ... 1 3 7] [2 5 7 ... 1 3 7]\n",
      "0.5978292682926829\n",
      "Iteration:  100\n",
      "[1 5 7 ... 1 3 7] [2 5 7 ... 1 3 7]\n",
      "0.6204878048780488\n",
      "Iteration:  110\n",
      "[1 5 7 ... 1 3 7] [2 5 7 ... 1 3 7]\n",
      "0.639390243902439\n",
      "Iteration:  120\n",
      "[2 5 7 ... 1 3 7] [2 5 7 ... 1 3 7]\n",
      "0.6556829268292683\n",
      "Iteration:  130\n",
      "[2 5 7 ... 1 3 7] [2 5 7 ... 1 3 7]\n",
      "0.6703658536585366\n",
      "Iteration:  140\n",
      "[2 5 7 ... 1 3 7] [2 5 7 ... 1 3 7]\n",
      "0.6822439024390244\n",
      "Iteration:  150\n",
      "[2 5 7 ... 1 3 7] [2 5 7 ... 1 3 7]\n",
      "0.6943170731707317\n",
      "Iteration:  160\n",
      "[2 5 7 ... 1 3 7] [2 5 7 ... 1 3 7]\n",
      "0.7044390243902439\n",
      "Iteration:  170\n",
      "[2 5 7 ... 1 3 7] [2 5 7 ... 1 3 7]\n",
      "0.7130731707317073\n",
      "Iteration:  180\n",
      "[2 5 7 ... 1 3 7] [2 5 7 ... 1 3 7]\n",
      "0.721390243902439\n",
      "Iteration:  190\n",
      "[2 5 7 ... 1 3 7] [2 5 7 ... 1 3 7]\n",
      "0.728609756097561\n",
      "Iteration:  200\n",
      "[2 5 7 ... 1 3 7] [2 5 7 ... 1 3 7]\n",
      "0.7362682926829268\n",
      "Iteration:  210\n",
      "[2 5 7 ... 1 3 7] [2 5 7 ... 1 3 7]\n",
      "0.7426341463414634\n",
      "Iteration:  220\n",
      "[2 5 7 ... 1 3 7] [2 5 7 ... 1 3 7]\n",
      "0.7487560975609756\n",
      "Iteration:  230\n",
      "[2 5 7 ... 1 3 7] [2 5 7 ... 1 3 7]\n",
      "0.7546341463414634\n",
      "Iteration:  240\n",
      "[2 5 7 ... 1 3 7] [2 5 7 ... 1 3 7]\n",
      "0.7597560975609756\n",
      "Iteration:  250\n",
      "[2 5 7 ... 1 3 7] [2 5 7 ... 1 3 7]\n",
      "0.7648292682926829\n",
      "Iteration:  260\n",
      "[2 5 7 ... 1 3 7] [2 5 7 ... 1 3 7]\n",
      "0.7688536585365854\n",
      "Iteration:  270\n",
      "[2 5 7 ... 1 3 7] [2 5 7 ... 1 3 7]\n",
      "0.773390243902439\n",
      "Iteration:  280\n",
      "[2 5 7 ... 1 3 7] [2 5 7 ... 1 3 7]\n",
      "0.7774634146341464\n",
      "Iteration:  290\n",
      "[2 5 7 ... 1 3 7] [2 5 7 ... 1 3 7]\n",
      "0.7810243902439025\n",
      "Iteration:  300\n",
      "[2 5 7 ... 1 3 7] [2 5 7 ... 1 3 7]\n",
      "0.7844878048780488\n",
      "Iteration:  310\n",
      "[2 5 7 ... 1 3 7] [2 5 7 ... 1 3 7]\n",
      "0.7877317073170732\n",
      "Iteration:  320\n",
      "[2 5 7 ... 1 3 7] [2 5 7 ... 1 3 7]\n",
      "0.7906585365853659\n",
      "Iteration:  330\n",
      "[2 5 7 ... 1 3 7] [2 5 7 ... 1 3 7]\n",
      "0.7929024390243903\n",
      "Iteration:  340\n",
      "[2 5 7 ... 1 3 7] [2 5 7 ... 1 3 7]\n",
      "0.7951951219512196\n",
      "Iteration:  350\n",
      "[2 5 7 ... 1 3 7] [2 5 7 ... 1 3 7]\n",
      "0.7978048780487805\n",
      "Iteration:  360\n",
      "[2 5 7 ... 1 3 7] [2 5 7 ... 1 3 7]\n",
      "0.8008536585365854\n",
      "Iteration:  370\n",
      "[2 5 7 ... 1 3 7] [2 5 7 ... 1 3 7]\n",
      "0.8030975609756098\n",
      "Iteration:  380\n",
      "[2 5 7 ... 1 3 7] [2 5 7 ... 1 3 7]\n",
      "0.8050487804878049\n",
      "Iteration:  390\n",
      "[2 5 7 ... 1 3 7] [2 5 7 ... 1 3 7]\n",
      "0.8073414634146342\n",
      "Iteration:  400\n",
      "[2 5 7 ... 1 3 7] [2 5 7 ... 1 3 7]\n",
      "0.8097804878048781\n",
      "Iteration:  410\n",
      "[2 5 7 ... 1 3 7] [2 5 7 ... 1 3 7]\n",
      "0.8119756097560976\n",
      "Iteration:  420\n",
      "[2 5 7 ... 1 3 7] [2 5 7 ... 1 3 7]\n",
      "0.8136829268292682\n",
      "Iteration:  430\n",
      "[2 5 7 ... 1 3 7] [2 5 7 ... 1 3 7]\n",
      "0.8149512195121951\n",
      "Iteration:  440\n",
      "[2 5 7 ... 1 3 7] [2 5 7 ... 1 3 7]\n",
      "0.8167073170731707\n",
      "Iteration:  450\n",
      "[2 5 7 ... 1 3 7] [2 5 7 ... 1 3 7]\n",
      "0.8179512195121951\n",
      "Iteration:  460\n",
      "[2 5 7 ... 1 3 7] [2 5 7 ... 1 3 7]\n",
      "0.8195853658536585\n",
      "Iteration:  470\n",
      "[2 5 7 ... 1 3 7] [2 5 7 ... 1 3 7]\n",
      "0.821170731707317\n",
      "Iteration:  480\n",
      "[2 5 7 ... 1 3 7] [2 5 7 ... 1 3 7]\n",
      "0.8223414634146341\n",
      "Iteration:  490\n",
      "[2 5 7 ... 1 3 7] [2 5 7 ... 1 3 7]\n",
      "0.8234878048780487\n",
      "Iteration:  500\n",
      "[2 5 7 ... 1 3 7] [2 5 7 ... 1 3 7]\n",
      "0.8250731707317073\n",
      "Iteration:  510\n",
      "[2 5 7 ... 1 3 7] [2 5 7 ... 1 3 7]\n",
      "0.8264634146341463\n",
      "Iteration:  520\n",
      "[2 5 7 ... 1 3 7] [2 5 7 ... 1 3 7]\n",
      "0.8276097560975609\n",
      "Iteration:  530\n",
      "[2 5 7 ... 1 3 7] [2 5 7 ... 1 3 7]\n",
      "0.8291951219512195\n",
      "Iteration:  540\n",
      "[2 5 7 ... 1 3 7] [2 5 7 ... 1 3 7]\n",
      "0.8300975609756097\n",
      "Iteration:  550\n",
      "[2 5 7 ... 1 3 7] [2 5 7 ... 1 3 7]\n",
      "0.8314146341463414\n",
      "Iteration:  560\n",
      "[2 5 7 ... 1 3 7] [2 5 7 ... 1 3 7]\n",
      "0.8320731707317073\n",
      "Iteration:  570\n",
      "[2 5 7 ... 1 3 7] [2 5 7 ... 1 3 7]\n",
      "0.8329756097560975\n",
      "Iteration:  580\n",
      "[2 5 7 ... 1 3 7] [2 5 7 ... 1 3 7]\n",
      "0.8339024390243902\n",
      "Iteration:  590\n",
      "[2 5 7 ... 1 3 7] [2 5 7 ... 1 3 7]\n",
      "0.8347560975609756\n",
      "Iteration:  600\n",
      "[2 5 7 ... 1 3 7] [2 5 7 ... 1 3 7]\n",
      "0.8357560975609756\n",
      "Iteration:  610\n",
      "[2 5 7 ... 1 3 7] [2 5 7 ... 1 3 7]\n",
      "0.836780487804878\n",
      "Iteration:  620\n",
      "[2 5 7 ... 1 3 7] [2 5 7 ... 1 3 7]\n",
      "0.8376097560975609\n",
      "Iteration:  630\n",
      "[2 5 7 ... 1 3 7] [2 5 7 ... 1 3 7]\n",
      "0.8384146341463414\n",
      "Iteration:  640\n",
      "[2 5 7 ... 1 3 7] [2 5 7 ... 1 3 7]\n",
      "0.8390731707317073\n",
      "Iteration:  650\n",
      "[2 5 7 ... 1 3 7] [2 5 7 ... 1 3 7]\n",
      "0.8401219512195122\n",
      "Iteration:  660\n",
      "[2 5 7 ... 1 3 7] [2 5 7 ... 1 3 7]\n",
      "0.8412195121951219\n",
      "Iteration:  670\n",
      "[2 5 7 ... 1 3 7] [2 5 7 ... 1 3 7]\n",
      "0.8422439024390244\n",
      "Iteration:  680\n",
      "[2 5 7 ... 1 3 7] [2 5 7 ... 1 3 7]\n",
      "0.8428536585365853\n",
      "Iteration:  690\n",
      "[2 5 7 ... 1 3 7] [2 5 7 ... 1 3 7]\n",
      "0.8436829268292683\n",
      "Iteration:  700\n",
      "[2 5 7 ... 1 3 7] [2 5 7 ... 1 3 7]\n",
      "0.8443170731707317\n",
      "Iteration:  710\n",
      "[2 5 7 ... 1 3 7] [2 5 7 ... 1 3 7]\n",
      "0.8447073170731707\n",
      "Iteration:  720\n",
      "[2 5 7 ... 1 3 7] [2 5 7 ... 1 3 7]\n",
      "0.8454390243902439\n",
      "Iteration:  730\n",
      "[2 5 7 ... 1 3 7] [2 5 7 ... 1 3 7]\n",
      "0.8465121951219512\n",
      "Iteration:  740\n",
      "[2 5 7 ... 1 3 7] [2 5 7 ... 1 3 7]\n",
      "0.847390243902439\n",
      "Iteration:  750\n",
      "[2 5 7 ... 1 3 7] [2 5 7 ... 1 3 7]\n",
      "0.8478048780487805\n",
      "Iteration:  760\n",
      "[2 5 7 ... 1 3 7] [2 5 7 ... 1 3 7]\n",
      "0.8482439024390244\n",
      "Iteration:  770\n",
      "[2 5 7 ... 1 3 7] [2 5 7 ... 1 3 7]\n",
      "0.8488780487804878\n",
      "Iteration:  780\n",
      "[2 5 7 ... 1 3 7] [2 5 7 ... 1 3 7]\n",
      "0.8492926829268292\n",
      "Iteration:  790\n",
      "[2 5 7 ... 1 3 7] [2 5 7 ... 1 3 7]\n",
      "0.8497073170731707\n",
      "Iteration:  800\n",
      "[2 5 7 ... 1 3 7] [2 5 7 ... 1 3 7]\n",
      "0.8501219512195122\n",
      "Iteration:  810\n",
      "[2 5 7 ... 1 3 7] [2 5 7 ... 1 3 7]\n",
      "0.8507560975609756\n",
      "Iteration:  820\n",
      "[2 5 7 ... 1 3 7] [2 5 7 ... 1 3 7]\n",
      "0.8514390243902439\n",
      "Iteration:  830\n",
      "[2 5 7 ... 1 3 7] [2 5 7 ... 1 3 7]\n",
      "0.8519268292682927\n",
      "Iteration:  840\n",
      "[2 5 7 ... 1 3 7] [2 5 7 ... 1 3 7]\n",
      "0.8524634146341463\n",
      "Iteration:  850\n",
      "[2 5 7 ... 1 3 7] [2 5 7 ... 1 3 7]\n",
      "0.8528536585365853\n",
      "Iteration:  860\n",
      "[2 5 7 ... 1 3 7] [2 5 7 ... 1 3 7]\n",
      "0.8535853658536585\n",
      "Iteration:  870\n",
      "[2 5 7 ... 1 3 7] [2 5 7 ... 1 3 7]\n",
      "0.8541951219512195\n",
      "Iteration:  880\n",
      "[2 5 7 ... 1 3 7] [2 5 7 ... 1 3 7]\n",
      "0.8546585365853658\n",
      "Iteration:  890\n",
      "[2 5 7 ... 1 3 7] [2 5 7 ... 1 3 7]\n",
      "0.8549756097560975\n",
      "Iteration:  900\n",
      "[2 5 7 ... 1 3 7] [2 5 7 ... 1 3 7]\n",
      "0.8553658536585366\n",
      "Iteration:  910\n",
      "[2 5 7 ... 1 3 7] [2 5 7 ... 1 3 7]\n",
      "0.856\n",
      "Iteration:  920\n",
      "[2 5 7 ... 1 3 7] [2 5 7 ... 1 3 7]\n",
      "0.8565365853658536\n",
      "Iteration:  930\n",
      "[2 5 7 ... 1 3 7] [2 5 7 ... 1 3 7]\n",
      "0.8571219512195122\n",
      "Iteration:  940\n",
      "[2 5 7 ... 1 3 7] [2 5 7 ... 1 3 7]\n",
      "0.8574878048780488\n",
      "Iteration:  950\n",
      "[2 5 7 ... 1 3 7] [2 5 7 ... 1 3 7]\n",
      "0.8580975609756097\n",
      "Iteration:  960\n",
      "[2 5 7 ... 1 3 7] [2 5 7 ... 1 3 7]\n",
      "0.8585365853658536\n",
      "Iteration:  970\n",
      "[2 5 7 ... 1 3 7] [2 5 7 ... 1 3 7]\n",
      "0.8587560975609756\n",
      "Iteration:  980\n",
      "[2 5 7 ... 1 3 7] [2 5 7 ... 1 3 7]\n",
      "0.8590243902439024\n",
      "Iteration:  990\n",
      "[2 5 7 ... 1 3 7] [2 5 7 ... 1 3 7]\n",
      "0.8594878048780488\n"
     ]
    }
   ],
   "source": [
    "W1, b1, W2, b2 = gradient_descent(X_train, Y_train, 0.10, 1000)"
   ]
  },
  {
   "cell_type": "code",
   "execution_count": 16,
   "metadata": {},
   "outputs": [],
   "source": [
    "def make_predictions(X, W1, b1, W2, b2):\n",
    "    _, _, _, A2 = forward_prop(W1, b1, W2, b2, X)\n",
    "    predictions = get_predictions(A2)\n",
    "    return predictions\n",
    "\n",
    "def test_prediction(index, W1, b1, W2, b2):\n",
    "    current_image = X_train[:, index, None]\n",
    "    prediction = make_predictions(X_train[:, index, None], W1, b1, W2, b2)\n",
    "    label = Y_train[index]\n",
    "    print(\"Prediction: \", prediction)\n",
    "    print(\"Label: \", label)\n",
    "    print(\"Status : \", prediction[0]==label)\n",
    "    current_image = current_image.reshape((28, 28)) * 255\n",
    "    plt.gray()\n",
    "    plt.imshow(current_image, interpolation='nearest')\n",
    "    plt.show()\n"
   ]
  },
  {
   "cell_type": "code",
   "execution_count": 17,
   "metadata": {},
   "outputs": [
    {
     "name": "stdout",
     "output_type": "stream",
     "text": [
      "Prediction:  [4]\n",
      "Label:  4\n",
      "Status :  True\n"
     ]
    },
    {
     "data": {
      "image/png": "[encoded data removed]",
      "text/plain": [
       "<Figure size 640x480 with 1 Axes>"
      ]
     },
     "metadata": {},
     "output_type": "display_data"
    },
    {
     "name": "stdout",
     "output_type": "stream",
     "text": [
      "Prediction:  [7]\n",
      "Label:  7\n",
      "Status :  True\n"
     ]
    },
    {
     "data": {
      "image/png": "[encoded data removed]",
      "text/plain": [
       "<Figure size 640x480 with 1 Axes>"
      ]
     },
     "metadata": {},
     "output_type": "display_data"
    },
    {
     "name": "stdout",
     "output_type": "stream",
     "text": [
      "Prediction:  [1]\n",
      "Label:  1\n",
      "Status :  True\n"
     ]
    },
    {
     "data": {
      "image/png": "[encoded data removed]",
      "text/plain": [
       "<Figure size 640x480 with 1 Axes>"
      ]
     },
     "metadata": {},
     "output_type": "display_data"
    },
    {
     "name": "stdout",
     "output_type": "stream",
     "text": [
      "Prediction:  [7]\n",
      "Label:  7\n",
      "Status :  True\n"
     ]
    },
    {
     "data": {
      "image/png": "[encoded data removed]",
      "text/plain": [
       "<Figure size 640x480 with 1 Axes>"
      ]
     },
     "metadata": {},
     "output_type": "display_data"
    },
    {
     "name": "stdout",
     "output_type": "stream",
     "text": [
      "Prediction:  [6]\n",
      "Label:  6\n",
      "Status :  True\n"
     ]
    },
    {
     "data": {
      "image/png": "[encoded data removed]",
      "text/plain": [
       "<Figure size 640x480 with 1 Axes>"
      ]
     },
     "metadata": {},
     "output_type": "display_data"
    }
   ],
   "source": [
    "test_prediction(40, W1, b1, W2, b2)\n",
    "test_prediction(41, W1, b1, W2, b2)\n",
    "test_prediction(42, W1, b1, W2, b2)\n",
    "test_prediction(43, W1, b1, W2, b2)\n",
    "test_prediction(44, W1, b1, W2, b2)"
   ]
  }
 ],
 "metadata": {
  "kernelspec": {
   "display_name": "Python 3",
   "language": "python",
   "name": "python3"
  },
  "language_info": {
   "codemirror_mode": {
    "name": "ipython",
    "version": 3
   },
   "file_extension": ".py",
   "mimetype": "text/x-python",
   "name": "python",
   "nbconvert_exporter": "python",
   "pygments_lexer": "ipython3",
   "version": "3.11.4"
  }
 },
 "nbformat": 4,
 "nbformat_minor": 2
}
